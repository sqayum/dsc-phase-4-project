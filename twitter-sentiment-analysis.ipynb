{
 "cells": [
  {
   "cell_type": "code",
   "execution_count": 12,
   "metadata": {},
   "outputs": [],
   "source": [
    "import numpy as np\n",
    "import pandas as pd\n",
    "\n",
    "import matplotlib.pyplot as plt\n",
    "%matplotlib inline\n",
    "\n",
    "import seaborn as sns\n",
    "sns.set_style(\"darkgrid\")\n",
    "sns.set_context(\"notebook\")\n",
    "sns.set_context(\"talk\")"
   ]
  },
  {
   "cell_type": "markdown",
   "metadata": {},
   "source": [
    "# A. *Business Understanding*"
   ]
  },
  {
   "cell_type": "markdown",
   "metadata": {},
   "source": [
    "*Gallup*, a global analytics and advice firm, plans to conduct a large-scale survey regarding the trends in public sentiment towards the political parties in the United States. In order to achieve this, they require a model that can rate the sentiment of a Tweet based on its content. Once training of the model has been completed, it is to be deployed as a sentiment analysis tool for that recieves data from the Twitter API.\n"
   ]
  },
  {
   "cell_type": "markdown",
   "metadata": {},
   "source": [
    "# B. *Data Understanding*"
   ]
  },
  {
   "cell_type": "markdown",
   "metadata": {},
   "source": [
    "## B.1 - Overview of the *Sentiment140* Dataset"
   ]
  },
  {
   "cell_type": "markdown",
   "metadata": {},
   "source": [
    "> *The [Sentiment140](http://help.sentiment140.com/home) dataset will be used to train the classification model. It is a collection of $1,600,000$ tweets, all of which are labelled with a corresponding value indicating sentiment.*\n",
    "\n",
    "> __The dataset consists of 5 input features and 1 target variable:__\n",
    "> * __id__ *[int] - unique identifier of the tweet*\n",
    "> * __date__ *[str] - date the tweet was posted*\n",
    "> * __user__ *[str] - user that posted the tweet*\n",
    "> * __text__ *[str] - content of the tweet*\n",
    "---\n",
    "> * __target__ *[str] - label indicating sentiment expressed in the tweet* \n",
    ">   - *0 = negative*\n",
    ">   - *4 = positive*\n",
    "\n",
    "It should be noted that the data in *Sentiment140* is weakly labeled, that is, its labels were generated automatically based on some heuristic. In the technical paper associated with *Sentiment140*, *[Twitter Sentiment Classification using Distant Supervision](https://cs.stanford.edu/people/alecmgo/papers/TwitterDistantSupervision09.pdf)*, this process is summarized: \n",
    "\n",
    "> \"*With the large range of topics discussed on Twitter, it would be very difficult to manually collect enough data to train a sentiment classifier for tweets. Our solution is to use distant supervision, in which our training data consists of tweets with emoticons. The emoticons serve as noisy labels. For example, __:)__ in a tweet indicate that the tweet contains positive sentiment and __:(__ indicates that the tweet contains negative sentiment.*\""
   ]
  },
  {
   "cell_type": "markdown",
   "metadata": {},
   "source": [
    "## B.2 - Importing the *Sentiment140* Dataset"
   ]
  },
  {
   "cell_type": "code",
   "execution_count": 8,
   "metadata": {},
   "outputs": [
    {
     "data": {
      "text/html": [
       "<div>\n",
       "<style scoped>\n",
       "    .dataframe tbody tr th:only-of-type {\n",
       "        vertical-align: middle;\n",
       "    }\n",
       "\n",
       "    .dataframe tbody tr th {\n",
       "        vertical-align: top;\n",
       "    }\n",
       "\n",
       "    .dataframe thead th {\n",
       "        text-align: right;\n",
       "    }\n",
       "</style>\n",
       "<table border=\"1\" class=\"dataframe\">\n",
       "  <thead>\n",
       "    <tr style=\"text-align: right;\">\n",
       "      <th></th>\n",
       "      <th>target</th>\n",
       "      <th>id</th>\n",
       "      <th>date</th>\n",
       "      <th>user</th>\n",
       "      <th>text</th>\n",
       "    </tr>\n",
       "  </thead>\n",
       "  <tbody>\n",
       "    <tr>\n",
       "      <th>0</th>\n",
       "      <td>0</td>\n",
       "      <td>1467810369</td>\n",
       "      <td>Mon Apr 06 22:19:45 PDT 2009</td>\n",
       "      <td>_TheSpecialOne_</td>\n",
       "      <td>@switchfoot http://twitpic.com/2y1zl - Awww, t...</td>\n",
       "    </tr>\n",
       "    <tr>\n",
       "      <th>1</th>\n",
       "      <td>0</td>\n",
       "      <td>1467810672</td>\n",
       "      <td>Mon Apr 06 22:19:49 PDT 2009</td>\n",
       "      <td>scotthamilton</td>\n",
       "      <td>is upset that he can't update his Facebook by ...</td>\n",
       "    </tr>\n",
       "    <tr>\n",
       "      <th>2</th>\n",
       "      <td>0</td>\n",
       "      <td>1467810917</td>\n",
       "      <td>Mon Apr 06 22:19:53 PDT 2009</td>\n",
       "      <td>mattycus</td>\n",
       "      <td>@Kenichan I dived many times for the ball. Man...</td>\n",
       "    </tr>\n",
       "    <tr>\n",
       "      <th>3</th>\n",
       "      <td>0</td>\n",
       "      <td>1467811184</td>\n",
       "      <td>Mon Apr 06 22:19:57 PDT 2009</td>\n",
       "      <td>ElleCTF</td>\n",
       "      <td>my whole body feels itchy and like its on fire</td>\n",
       "    </tr>\n",
       "    <tr>\n",
       "      <th>4</th>\n",
       "      <td>0</td>\n",
       "      <td>1467811193</td>\n",
       "      <td>Mon Apr 06 22:19:57 PDT 2009</td>\n",
       "      <td>Karoli</td>\n",
       "      <td>@nationwideclass no, it's not behaving at all....</td>\n",
       "    </tr>\n",
       "  </tbody>\n",
       "</table>\n",
       "</div>"
      ],
      "text/plain": [
       "   target          id                          date             user  \\\n",
       "0       0  1467810369  Mon Apr 06 22:19:45 PDT 2009  _TheSpecialOne_   \n",
       "1       0  1467810672  Mon Apr 06 22:19:49 PDT 2009    scotthamilton   \n",
       "2       0  1467810917  Mon Apr 06 22:19:53 PDT 2009         mattycus   \n",
       "3       0  1467811184  Mon Apr 06 22:19:57 PDT 2009          ElleCTF   \n",
       "4       0  1467811193  Mon Apr 06 22:19:57 PDT 2009           Karoli   \n",
       "\n",
       "                                                text  \n",
       "0  @switchfoot http://twitpic.com/2y1zl - Awww, t...  \n",
       "1  is upset that he can't update his Facebook by ...  \n",
       "2  @Kenichan I dived many times for the ball. Man...  \n",
       "3    my whole body feels itchy and like its on fire   \n",
       "4  @nationwideclass no, it's not behaving at all....  "
      ]
     },
     "execution_count": 8,
     "metadata": {},
     "output_type": "execute_result"
    }
   ],
   "source": [
    "df = pd.read_csv(\"data/sentiment140.csv\")\n",
    "df.head()"
   ]
  },
  {
   "cell_type": "code",
   "execution_count": 9,
   "metadata": {},
   "outputs": [
    {
     "data": {
      "text/html": [
       "<div>\n",
       "<style scoped>\n",
       "    .dataframe tbody tr th:only-of-type {\n",
       "        vertical-align: middle;\n",
       "    }\n",
       "\n",
       "    .dataframe tbody tr th {\n",
       "        vertical-align: top;\n",
       "    }\n",
       "\n",
       "    .dataframe thead th {\n",
       "        text-align: right;\n",
       "    }\n",
       "</style>\n",
       "<table border=\"1\" class=\"dataframe\">\n",
       "  <thead>\n",
       "    <tr style=\"text-align: right;\">\n",
       "      <th></th>\n",
       "      <th>text</th>\n",
       "    </tr>\n",
       "  </thead>\n",
       "  <tbody>\n",
       "    <tr>\n",
       "      <th>0</th>\n",
       "      <td>@switchfoot http://twitpic.com/2y1zl - Awww, t...</td>\n",
       "    </tr>\n",
       "    <tr>\n",
       "      <th>1</th>\n",
       "      <td>is upset that he can't update his Facebook by ...</td>\n",
       "    </tr>\n",
       "    <tr>\n",
       "      <th>2</th>\n",
       "      <td>@Kenichan I dived many times for the ball. Man...</td>\n",
       "    </tr>\n",
       "    <tr>\n",
       "      <th>3</th>\n",
       "      <td>my whole body feels itchy and like its on fire</td>\n",
       "    </tr>\n",
       "    <tr>\n",
       "      <th>4</th>\n",
       "      <td>@nationwideclass no, it's not behaving at all....</td>\n",
       "    </tr>\n",
       "  </tbody>\n",
       "</table>\n",
       "</div>"
      ],
      "text/plain": [
       "                                                text\n",
       "0  @switchfoot http://twitpic.com/2y1zl - Awww, t...\n",
       "1  is upset that he can't update his Facebook by ...\n",
       "2  @Kenichan I dived many times for the ball. Man...\n",
       "3    my whole body feels itchy and like its on fire \n",
       "4  @nationwideclass no, it's not behaving at all...."
      ]
     },
     "execution_count": 9,
     "metadata": {},
     "output_type": "execute_result"
    }
   ],
   "source": [
    "df.drop(columns=[\"target\", \"id\", \"date\", \"user\"], inplace=True)\n",
    "df.head()"
   ]
  },
  {
   "cell_type": "markdown",
   "metadata": {},
   "source": [
    "## B.3 - Relabeling the *Sentiment140* Dataset"
   ]
  },
  {
   "cell_type": "markdown",
   "metadata": {},
   "source": [
    "The heuristic outlined in *Section B.1* was used to generate weak labels for *Sentiment140* because it had previsiously been shown that emoticons have the potential of being independent of domain, time, and topic [refer to *[Using Emoticons to Reduce Dependency in Machine Learning Techniques for Sentiment Classification](https://aclanthology.org/P05-2008.pdf)* for more details]. At the time when *Sentiment140* was being compiled, this property made emoticons an ideal heuristic for generating weakly-labeled semantic data. However, utilizing such a simple rule for classifying something as complex as sentiment is bound to produce a substantial number of incorrect labels. Fortunately, there now exists a better alternative to rule-based label generation.\n",
    "\n",
    "> *__For this analysis, the original labels will be discarded, and new set of labels will be generated by the VADER (Valence Aware Dictionary for sEntiment Reasoning) model.__*\n",
    "\n",
    "<br>\n",
    "\n",
    "> *VADER is a sentiment analysis engine that utilizes a parsimonious lexicon in conjunction with a rule-based model. The following features justify its use as a replacement for rule-based label generation:*  \n",
    "> - *the model relies on a lexicon that is specifically attuned to sentiment in microblog-like contexts (e.g. Twitter)*\n",
    "> - *the model does not rely on statistical learning to make predictions and therefore does not require training data*\n",
    "> - *the model is highly accurate -- experimental results show that it predicts the sentiment of tweets with an *F1 Classification Accuracy* of $0.96$ [refer to [VADER: A Parsimonious Rule-based Model for Sentiment Analysis of Social Media Text](http://comp.social.gatech.edu/papers/icwsm14.vader.hutto.pdf) for more details]*\n",
    "\n",
    "In addition to obtaining more accurate labels, performing sentiment analysis with VADER will allow for the additional classification of tweets that express a neutral sentiment. Although tweets such as these were not considered during the construction of *Sentiment104*, the sheer number of tweets combined with the inaccuracy of the current labels makes it likely that a significant number of neutral tweets are present in the dataset. Thus, for the sake of producing a finer classification model, tweets classified as neutral by VADER will remain with that label throughout the remainder of the analysis."
   ]
  },
  {
   "cell_type": "code",
   "execution_count": 10,
   "metadata": {},
   "outputs": [],
   "source": [
    "from nltk.sentiment.vader import SentimentIntensityAnalyzer\n",
    "sentiment_analyzer = SentimentIntensityAnalyzer()"
   ]
  },
  {
   "cell_type": "code",
   "execution_count": 11,
   "metadata": {},
   "outputs": [
    {
     "data": {
      "text/html": [
       "<div>\n",
       "<style scoped>\n",
       "    .dataframe tbody tr th:only-of-type {\n",
       "        vertical-align: middle;\n",
       "    }\n",
       "\n",
       "    .dataframe tbody tr th {\n",
       "        vertical-align: top;\n",
       "    }\n",
       "\n",
       "    .dataframe thead th {\n",
       "        text-align: right;\n",
       "    }\n",
       "</style>\n",
       "<table border=\"1\" class=\"dataframe\">\n",
       "  <thead>\n",
       "    <tr style=\"text-align: right;\">\n",
       "      <th></th>\n",
       "      <th>text</th>\n",
       "      <th>scores</th>\n",
       "    </tr>\n",
       "  </thead>\n",
       "  <tbody>\n",
       "    <tr>\n",
       "      <th>0</th>\n",
       "      <td>@switchfoot http://twitpic.com/2y1zl - Awww, t...</td>\n",
       "      <td>{'neg': 0.129, 'neu': 0.745, 'pos': 0.126, 'co...</td>\n",
       "    </tr>\n",
       "    <tr>\n",
       "      <th>1</th>\n",
       "      <td>is upset that he can't update his Facebook by ...</td>\n",
       "      <td>{'neg': 0.303, 'neu': 0.697, 'pos': 0.0, 'comp...</td>\n",
       "    </tr>\n",
       "    <tr>\n",
       "      <th>2</th>\n",
       "      <td>@Kenichan I dived many times for the ball. Man...</td>\n",
       "      <td>{'neg': 0.0, 'neu': 0.833, 'pos': 0.167, 'comp...</td>\n",
       "    </tr>\n",
       "    <tr>\n",
       "      <th>3</th>\n",
       "      <td>my whole body feels itchy and like its on fire</td>\n",
       "      <td>{'neg': 0.321, 'neu': 0.5, 'pos': 0.179, 'comp...</td>\n",
       "    </tr>\n",
       "    <tr>\n",
       "      <th>4</th>\n",
       "      <td>@nationwideclass no, it's not behaving at all....</td>\n",
       "      <td>{'neg': 0.241, 'neu': 0.759, 'pos': 0.0, 'comp...</td>\n",
       "    </tr>\n",
       "  </tbody>\n",
       "</table>\n",
       "</div>"
      ],
      "text/plain": [
       "                                                text  \\\n",
       "0  @switchfoot http://twitpic.com/2y1zl - Awww, t...   \n",
       "1  is upset that he can't update his Facebook by ...   \n",
       "2  @Kenichan I dived many times for the ball. Man...   \n",
       "3    my whole body feels itchy and like its on fire    \n",
       "4  @nationwideclass no, it's not behaving at all....   \n",
       "\n",
       "                                              scores  \n",
       "0  {'neg': 0.129, 'neu': 0.745, 'pos': 0.126, 'co...  \n",
       "1  {'neg': 0.303, 'neu': 0.697, 'pos': 0.0, 'comp...  \n",
       "2  {'neg': 0.0, 'neu': 0.833, 'pos': 0.167, 'comp...  \n",
       "3  {'neg': 0.321, 'neu': 0.5, 'pos': 0.179, 'comp...  \n",
       "4  {'neg': 0.241, 'neu': 0.759, 'pos': 0.0, 'comp...  "
      ]
     },
     "execution_count": 11,
     "metadata": {},
     "output_type": "execute_result"
    }
   ],
   "source": [
    "df[\"scores\"] = df[\"text\"].apply(lambda tweet: sentiment_analyzer.polarity_scores(tweet))\n",
    "df.head()"
   ]
  },
  {
   "cell_type": "code",
   "execution_count": 12,
   "metadata": {},
   "outputs": [
    {
     "data": {
      "text/html": [
       "<div>\n",
       "<style scoped>\n",
       "    .dataframe tbody tr th:only-of-type {\n",
       "        vertical-align: middle;\n",
       "    }\n",
       "\n",
       "    .dataframe tbody tr th {\n",
       "        vertical-align: top;\n",
       "    }\n",
       "\n",
       "    .dataframe thead th {\n",
       "        text-align: right;\n",
       "    }\n",
       "</style>\n",
       "<table border=\"1\" class=\"dataframe\">\n",
       "  <thead>\n",
       "    <tr style=\"text-align: right;\">\n",
       "      <th></th>\n",
       "      <th>text</th>\n",
       "      <th>compound score</th>\n",
       "    </tr>\n",
       "  </thead>\n",
       "  <tbody>\n",
       "    <tr>\n",
       "      <th>0</th>\n",
       "      <td>@switchfoot http://twitpic.com/2y1zl - Awww, t...</td>\n",
       "      <td>-0.0173</td>\n",
       "    </tr>\n",
       "    <tr>\n",
       "      <th>1</th>\n",
       "      <td>is upset that he can't update his Facebook by ...</td>\n",
       "      <td>-0.7500</td>\n",
       "    </tr>\n",
       "    <tr>\n",
       "      <th>2</th>\n",
       "      <td>@Kenichan I dived many times for the ball. Man...</td>\n",
       "      <td>0.4939</td>\n",
       "    </tr>\n",
       "    <tr>\n",
       "      <th>3</th>\n",
       "      <td>my whole body feels itchy and like its on fire</td>\n",
       "      <td>-0.2500</td>\n",
       "    </tr>\n",
       "    <tr>\n",
       "      <th>4</th>\n",
       "      <td>@nationwideclass no, it's not behaving at all....</td>\n",
       "      <td>-0.6597</td>\n",
       "    </tr>\n",
       "  </tbody>\n",
       "</table>\n",
       "</div>"
      ],
      "text/plain": [
       "                                                text  compound score\n",
       "0  @switchfoot http://twitpic.com/2y1zl - Awww, t...         -0.0173\n",
       "1  is upset that he can't update his Facebook by ...         -0.7500\n",
       "2  @Kenichan I dived many times for the ball. Man...          0.4939\n",
       "3    my whole body feels itchy and like its on fire          -0.2500\n",
       "4  @nationwideclass no, it's not behaving at all....         -0.6597"
      ]
     },
     "execution_count": 12,
     "metadata": {},
     "output_type": "execute_result"
    }
   ],
   "source": [
    "df[\"compound score\"]  = df[\"scores\"].apply(lambda score_dict: score_dict[\"compound\"])\n",
    "df.drop(columns=[\"scores\"], inplace=True)\n",
    "df.head()"
   ]
  },
  {
   "cell_type": "code",
   "execution_count": 13,
   "metadata": {},
   "outputs": [],
   "source": [
    "def get_sentiment_label(compound_score):\n",
    "    if compound_score >= 0.05:\n",
    "        return \"POSITIVE\"\n",
    "    elif compound_score <= -0.05:\n",
    "        return \"NEGATIVE\"\n",
    "    else:\n",
    "        return \"NEUTRAL\""
   ]
  },
  {
   "cell_type": "code",
   "execution_count": 14,
   "metadata": {},
   "outputs": [
    {
     "data": {
      "text/html": [
       "<div>\n",
       "<style scoped>\n",
       "    .dataframe tbody tr th:only-of-type {\n",
       "        vertical-align: middle;\n",
       "    }\n",
       "\n",
       "    .dataframe tbody tr th {\n",
       "        vertical-align: top;\n",
       "    }\n",
       "\n",
       "    .dataframe thead th {\n",
       "        text-align: right;\n",
       "    }\n",
       "</style>\n",
       "<table border=\"1\" class=\"dataframe\">\n",
       "  <thead>\n",
       "    <tr style=\"text-align: right;\">\n",
       "      <th></th>\n",
       "      <th>text</th>\n",
       "      <th>label</th>\n",
       "    </tr>\n",
       "  </thead>\n",
       "  <tbody>\n",
       "    <tr>\n",
       "      <th>0</th>\n",
       "      <td>@switchfoot http://twitpic.com/2y1zl - Awww, t...</td>\n",
       "      <td>NEUTRAL</td>\n",
       "    </tr>\n",
       "    <tr>\n",
       "      <th>1</th>\n",
       "      <td>is upset that he can't update his Facebook by ...</td>\n",
       "      <td>NEGATIVE</td>\n",
       "    </tr>\n",
       "    <tr>\n",
       "      <th>2</th>\n",
       "      <td>@Kenichan I dived many times for the ball. Man...</td>\n",
       "      <td>POSITIVE</td>\n",
       "    </tr>\n",
       "    <tr>\n",
       "      <th>3</th>\n",
       "      <td>my whole body feels itchy and like its on fire</td>\n",
       "      <td>NEGATIVE</td>\n",
       "    </tr>\n",
       "    <tr>\n",
       "      <th>4</th>\n",
       "      <td>@nationwideclass no, it's not behaving at all....</td>\n",
       "      <td>NEGATIVE</td>\n",
       "    </tr>\n",
       "  </tbody>\n",
       "</table>\n",
       "</div>"
      ],
      "text/plain": [
       "                                                text     label\n",
       "0  @switchfoot http://twitpic.com/2y1zl - Awww, t...   NEUTRAL\n",
       "1  is upset that he can't update his Facebook by ...  NEGATIVE\n",
       "2  @Kenichan I dived many times for the ball. Man...  POSITIVE\n",
       "3    my whole body feels itchy and like its on fire   NEGATIVE\n",
       "4  @nationwideclass no, it's not behaving at all....  NEGATIVE"
      ]
     },
     "execution_count": 14,
     "metadata": {},
     "output_type": "execute_result"
    }
   ],
   "source": [
    "df[\"label\"] = df[\"compound score\"].apply(lambda score: get_sentiment_label(score))\n",
    "df.drop(columns=[\"compound score\"], inplace=True)\n",
    "df.head()"
   ]
  },
  {
   "cell_type": "code",
   "execution_count": 15,
   "metadata": {},
   "outputs": [],
   "source": [
    "df.to_csv(\"data/relabeled_sentiment140.csv\", index=False)"
   ]
  },
  {
   "cell_type": "markdown",
   "metadata": {},
   "source": [
    "## \n",
    "---"
   ]
  },
  {
   "cell_type": "code",
   "execution_count": 103,
   "metadata": {},
   "outputs": [],
   "source": [
    "corpus = pd.read_csv(\"data/relabeled_sentiment140.csv\")"
   ]
  },
  {
   "cell_type": "markdown",
   "metadata": {},
   "source": [
    "---"
   ]
  },
  {
   "cell_type": "markdown",
   "metadata": {},
   "source": [
    "## B.4 - Viewing a Summary of the Relabeled *Sentiment140* Dataset"
   ]
  },
  {
   "cell_type": "code",
   "execution_count": 104,
   "metadata": {},
   "outputs": [
    {
     "name": "stdout",
     "output_type": "stream",
     "text": [
      "<class 'pandas.core.frame.DataFrame'>\n",
      "RangeIndex: 1600000 entries, 0 to 1599999\n",
      "Data columns (total 2 columns):\n",
      " #   Column  Non-Null Count    Dtype \n",
      "---  ------  --------------    ----- \n",
      " 0   text    1600000 non-null  object\n",
      " 1   label   1600000 non-null  object\n",
      "dtypes: object(2)\n",
      "memory usage: 24.4+ MB\n"
     ]
    }
   ],
   "source": [
    "corpus.info()"
   ]
  },
  {
   "cell_type": "code",
   "execution_count": 105,
   "metadata": {},
   "outputs": [
    {
     "data": {
      "image/png": "[encoded data removed]",
      "text/plain": [
       "<Figure size 576x504 with 1 Axes>"
      ]
     },
     "metadata": {},
     "output_type": "display_data"
    }
   ],
   "source": [
    "label_counts = corpus.groupby(\"label\").count()[\"text\"]\n",
    "label_frequencies = label_counts.apply(lambda count: count / label_counts.sum())\n",
    "\n",
    "fig, ax = plt.subplots(figsize=(8,7))\n",
    "ax.bar(label_frequencies.index, label_frequencies.values, width=0.5)\n",
    "ax.set(ylabel=\"Frequency\", title=\"Label Frequency by Sentiment\", ylim=(0,0.5));"
   ]
  },
  {
   "cell_type": "markdown",
   "metadata": {},
   "source": [
    "# C. *Data Preparation*"
   ]
  },
  {
   "cell_type": "code",
   "execution_count": 106,
   "metadata": {},
   "outputs": [],
   "source": [
    "import re\n",
    "import unicodedata\n",
    "import langdetect \n",
    "from nlp_utils import CONTRACTION_MAP, LANGUAGE_CODES\n",
    "from nltk.corpus import stopwords\n",
    "from nltk.tokenize import word_tokenize"
   ]
  },
  {
   "cell_type": "markdown",
   "metadata": {},
   "source": [
    "## C.1 - Cleaning"
   ]
  },
  {
   "cell_type": "code",
   "execution_count": 107,
   "metadata": {},
   "outputs": [],
   "source": [
    "def preview_documents(corpus, N=20):\n",
    "    for i in range(N):\n",
    "        print(corpus.text[i])\n",
    "        print(\"---\")"
   ]
  },
  {
   "cell_type": "markdown",
   "metadata": {},
   "source": [
    "### *Replacing Accented Characters*"
   ]
  },
  {
   "cell_type": "code",
   "execution_count": 108,
   "metadata": {},
   "outputs": [],
   "source": [
    "def remove_accented_characters(text):\n",
    "    return unicodedata.normalize('NFKD', text).encode('ascii', 'ignore').decode('utf-8', 'ignore')"
   ]
  },
  {
   "cell_type": "code",
   "execution_count": 109,
   "metadata": {},
   "outputs": [],
   "source": [
    "corpus[\"text\"] = corpus[\"text\"].apply(remove_accented_characters)"
   ]
  },
  {
   "cell_type": "code",
   "execution_count": 110,
   "metadata": {},
   "outputs": [
    {
     "name": "stdout",
     "output_type": "stream",
     "text": [
      "@switchfoot http://twitpic.com/2y1zl - Awww, that's a bummer.  You shoulda got David Carr of Third Day to do it. ;D\n",
      "---\n",
      "is upset that he can't update his Facebook by texting it... and might cry as a result  School today also. Blah!\n",
      "---\n",
      "@Kenichan I dived many times for the ball. Managed to save 50%  The rest go out of bounds\n",
      "---\n",
      "my whole body feels itchy and like its on fire \n",
      "---\n",
      "@nationwideclass no, it's not behaving at all. i'm mad. why am i here? because I can't see you all over there. \n",
      "---\n",
      "@Kwesidei not the whole crew \n",
      "---\n",
      "Need a hug \n",
      "---\n",
      "@LOLTrish hey  long time no see! Yes.. Rains a bit ,only a bit  LOL , I'm fine thanks , how's you ?\n",
      "---\n",
      "@Tatiana_K nope they didn't have it \n",
      "---\n",
      "@twittera que me muera ? \n",
      "---\n",
      "spring break in plain city... it's snowing \n",
      "---\n",
      "I just re-pierced my ears \n",
      "---\n",
      "@caregiving I couldn't bear to watch it.  And I thought the UA loss was embarrassing . . . . .\n",
      "---\n",
      "@octolinz16 It it counts, idk why I did either. you never talk to me anymore \n",
      "---\n",
      "@smarrison i would've been the first, but i didn't have a gun.    not really though, zac snyder's just a doucheclown.\n",
      "---\n",
      "@iamjazzyfizzle I wish I got to watch it with you!! I miss you and @iamlilnicki  how was the premiere?!\n",
      "---\n",
      "Hollis' death scene will hurt me severely to watch on film  wry is directors cut not out now?\n",
      "---\n",
      "about to file taxes \n",
      "---\n",
      "@LettyA ahh ive always wanted to see rent  love the soundtrack!!\n",
      "---\n",
      "@FakerPattyPattz Oh dear. Were you drinking out of the forgotten table drinks? \n",
      "---\n"
     ]
    }
   ],
   "source": [
    "preview_documents(corpus)"
   ]
  },
  {
   "cell_type": "markdown",
   "metadata": {},
   "source": [
    "### *Expanding Contractions*"
   ]
  },
  {
   "cell_type": "code",
   "execution_count": 111,
   "metadata": {},
   "outputs": [],
   "source": [
    "def expand_contractions(text, contraction_mapping=CONTRACTION_MAP):\n",
    "    def expand_match(contraction):\n",
    "        match = contraction.group(0)           \n",
    "        expanded_match = contraction_mapping[match.lower()] \n",
    "        if match[0].isupper():\n",
    "            expanded_match = expanded_match[0].upper() + expanded_match[1:] \n",
    "        return expanded_match\n",
    "    \n",
    "    contractions_regex = \"(\" + '|'.join(sorted(contraction_mapping.keys(), key=lambda x: len(x))) + \")\"\n",
    "    contractions_pattern = re.compile(contractions_regex, flags=re.IGNORECASE|re.DOTALL)\n",
    "    expanded_text = contractions_pattern.sub(expand_match, text)\n",
    "    if contractions_pattern.search(expanded_text) is None:\n",
    "        return expanded_text\n",
    "    return contractions_pattern.sub(expand_match, expanded_text)"
   ]
  },
  {
   "cell_type": "code",
   "execution_count": 112,
   "metadata": {},
   "outputs": [],
   "source": [
    "corpus[\"text\"] =  corpus[\"text\"].apply(expand_contractions)"
   ]
  },
  {
   "cell_type": "code",
   "execution_count": 113,
   "metadata": {},
   "outputs": [
    {
     "name": "stdout",
     "output_type": "stream",
     "text": [
      "@switchfoot http://twitpic.com/2y1zl - Awww, that is a bummer.  You shoulda got David Carr of Third Day to do it. ;D\n",
      "---\n",
      "is upset that he cannot update his Facebook by texting it... and might cry as a result  School today also. Blah!\n",
      "---\n",
      "@Kenichan I dived many times for the ball. Managed to save 50%  The rest go out of bounds\n",
      "---\n",
      "my whole body feels itchy and like its on fire \n",
      "---\n",
      "@nationwideclass no, it is not behaving at all. i am mad. why am i here? because I cannot see you all over there. \n",
      "---\n",
      "@Kwesidei not the whole crew \n",
      "---\n",
      "Need a hug \n",
      "---\n",
      "@LOLTrish hey  long time no see! Yes.. Rains a bit ,only a bit  LOL , I am fine thanks , how is you ?\n",
      "---\n",
      "@Tatiana_K nope they did not have it \n",
      "---\n",
      "@twittera que me muera ? \n",
      "---\n",
      "spring break in plain city... it is snowing \n",
      "---\n",
      "I just re-pierced my ears \n",
      "---\n",
      "@caregiving I could not bear to watch it.  And I thought the UA loss was embarrassing . . . . .\n",
      "---\n",
      "@octolinz16 It it counts, idk why I did either. you never talk to me anymore \n",
      "---\n",
      "@smarrison i would have been the first, but i did not have a gun.    not really though, zac snyder's just a doucheclown.\n",
      "---\n",
      "@iamjazzyfizzle I wish I got to watch it with you!! I miss you and @iamlilnicki  how was the premiere?!\n",
      "---\n",
      "Hollis' death scene will hurt me severely to watch on film  wry is directors cut not out now?\n",
      "---\n",
      "about to file taxes \n",
      "---\n",
      "@LettyA ahh ive always wanted to see rent  love the soundtrack!!\n",
      "---\n",
      "@FakerPattyPattz Oh dear. Were you drinking out of the forgotten table drinks? \n",
      "---\n"
     ]
    }
   ],
   "source": [
    "preview_documents(corpus)"
   ]
  },
  {
   "cell_type": "markdown",
   "metadata": {},
   "source": [
    "### *Removing Twitter Handles*"
   ]
  },
  {
   "cell_type": "code",
   "execution_count": 114,
   "metadata": {},
   "outputs": [],
   "source": [
    "def remove_twitter_handles(text, addressee_only=True):\n",
    "    twitter_handle_regex = \"^@\\w+\" if addressee_only else \"@\\w+\"  \n",
    "    twitter_handle_pattern = re.compile(twitter_handle_regex, flags=re.IGNORECASE|re.DOTALL)\n",
    "    return twitter_handle_pattern.sub('', text)"
   ]
  },
  {
   "cell_type": "code",
   "execution_count": 115,
   "metadata": {},
   "outputs": [],
   "source": [
    "corpus[\"text\"] =  corpus[\"text\"].apply(remove_twitter_handles)"
   ]
  },
  {
   "cell_type": "code",
   "execution_count": 116,
   "metadata": {},
   "outputs": [
    {
     "name": "stdout",
     "output_type": "stream",
     "text": [
      " http://twitpic.com/2y1zl - Awww, that is a bummer.  You shoulda got David Carr of Third Day to do it. ;D\n",
      "---\n",
      "is upset that he cannot update his Facebook by texting it... and might cry as a result  School today also. Blah!\n",
      "---\n",
      " I dived many times for the ball. Managed to save 50%  The rest go out of bounds\n",
      "---\n",
      "my whole body feels itchy and like its on fire \n",
      "---\n",
      " no, it is not behaving at all. i am mad. why am i here? because I cannot see you all over there. \n",
      "---\n",
      " not the whole crew \n",
      "---\n",
      "Need a hug \n",
      "---\n",
      " hey  long time no see! Yes.. Rains a bit ,only a bit  LOL , I am fine thanks , how is you ?\n",
      "---\n",
      " nope they did not have it \n",
      "---\n",
      " que me muera ? \n",
      "---\n",
      "spring break in plain city... it is snowing \n",
      "---\n",
      "I just re-pierced my ears \n",
      "---\n",
      " I could not bear to watch it.  And I thought the UA loss was embarrassing . . . . .\n",
      "---\n",
      " It it counts, idk why I did either. you never talk to me anymore \n",
      "---\n",
      " i would have been the first, but i did not have a gun.    not really though, zac snyder's just a doucheclown.\n",
      "---\n",
      " I wish I got to watch it with you!! I miss you and @iamlilnicki  how was the premiere?!\n",
      "---\n",
      "Hollis' death scene will hurt me severely to watch on film  wry is directors cut not out now?\n",
      "---\n",
      "about to file taxes \n",
      "---\n",
      " ahh ive always wanted to see rent  love the soundtrack!!\n",
      "---\n",
      " Oh dear. Were you drinking out of the forgotten table drinks? \n",
      "---\n"
     ]
    }
   ],
   "source": [
    "preview_documents(corpus)"
   ]
  },
  {
   "cell_type": "markdown",
   "metadata": {},
   "source": [
    "### *Removing Web Addresses*"
   ]
  },
  {
   "cell_type": "code",
   "execution_count": 117,
   "metadata": {},
   "outputs": [],
   "source": [
    "def remove_web_addresses(text):\n",
    "    web_address_regex = \"(https?\\:\\/\\/\\S+)|(w{3}\\.\\S+\\.(com|org|gov|edu)\\S*)\"\n",
    "    web_address_pattern = re.compile(web_address_regex, flags=re.IGNORECASE|re.DOTALL)\n",
    "    return web_address_pattern.sub('', text)"
   ]
  },
  {
   "cell_type": "code",
   "execution_count": 118,
   "metadata": {},
   "outputs": [],
   "source": [
    "corpus[\"text\"] =  corpus[\"text\"].apply(remove_web_addresses)"
   ]
  },
  {
   "cell_type": "code",
   "execution_count": 119,
   "metadata": {},
   "outputs": [
    {
     "name": "stdout",
     "output_type": "stream",
     "text": [
      "  - Awww, that is a bummer.  You shoulda got David Carr of Third Day to do it. ;D\n",
      "---\n",
      "is upset that he cannot update his Facebook by texting it... and might cry as a result  School today also. Blah!\n",
      "---\n",
      " I dived many times for the ball. Managed to save 50%  The rest go out of bounds\n",
      "---\n",
      "my whole body feels itchy and like its on fire \n",
      "---\n",
      " no, it is not behaving at all. i am mad. why am i here? because I cannot see you all over there. \n",
      "---\n",
      " not the whole crew \n",
      "---\n",
      "Need a hug \n",
      "---\n",
      " hey  long time no see! Yes.. Rains a bit ,only a bit  LOL , I am fine thanks , how is you ?\n",
      "---\n",
      " nope they did not have it \n",
      "---\n",
      " que me muera ? \n",
      "---\n",
      "spring break in plain city... it is snowing \n",
      "---\n",
      "I just re-pierced my ears \n",
      "---\n",
      " I could not bear to watch it.  And I thought the UA loss was embarrassing . . . . .\n",
      "---\n",
      " It it counts, idk why I did either. you never talk to me anymore \n",
      "---\n",
      " i would have been the first, but i did not have a gun.    not really though, zac snyder's just a doucheclown.\n",
      "---\n",
      " I wish I got to watch it with you!! I miss you and @iamlilnicki  how was the premiere?!\n",
      "---\n",
      "Hollis' death scene will hurt me severely to watch on film  wry is directors cut not out now?\n",
      "---\n",
      "about to file taxes \n",
      "---\n",
      " ahh ive always wanted to see rent  love the soundtrack!!\n",
      "---\n",
      " Oh dear. Were you drinking out of the forgotten table drinks? \n",
      "---\n"
     ]
    }
   ],
   "source": [
    "preview_documents(corpus)"
   ]
  },
  {
   "cell_type": "markdown",
   "metadata": {},
   "source": [
    "### *Removing Special Characters*"
   ]
  },
  {
   "cell_type": "code",
   "execution_count": 120,
   "metadata": {},
   "outputs": [],
   "source": [
    "def remove_special_characters(text):\n",
    "    return re.sub('[^a-zA-z0-9\\s]', '', text)"
   ]
  },
  {
   "cell_type": "code",
   "execution_count": 121,
   "metadata": {},
   "outputs": [],
   "source": [
    "corpus[\"text\"] =  corpus[\"text\"].apply(remove_special_characters)"
   ]
  },
  {
   "cell_type": "code",
   "execution_count": 122,
   "metadata": {},
   "outputs": [
    {
     "name": "stdout",
     "output_type": "stream",
     "text": [
      "   Awww that is a bummer  You shoulda got David Carr of Third Day to do it D\n",
      "---\n",
      "is upset that he cannot update his Facebook by texting it and might cry as a result  School today also Blah\n",
      "---\n",
      " I dived many times for the ball Managed to save 50  The rest go out of bounds\n",
      "---\n",
      "my whole body feels itchy and like its on fire \n",
      "---\n",
      " no it is not behaving at all i am mad why am i here because I cannot see you all over there \n",
      "---\n",
      " not the whole crew \n",
      "---\n",
      "Need a hug \n",
      "---\n",
      " hey  long time no see Yes Rains a bit only a bit  LOL  I am fine thanks  how is you \n",
      "---\n",
      " nope they did not have it \n",
      "---\n",
      " que me muera  \n",
      "---\n",
      "spring break in plain city it is snowing \n",
      "---\n",
      "I just repierced my ears \n",
      "---\n",
      " I could not bear to watch it  And I thought the UA loss was embarrassing     \n",
      "---\n",
      " It it counts idk why I did either you never talk to me anymore \n",
      "---\n",
      " i would have been the first but i did not have a gun    not really though zac snyders just a doucheclown\n",
      "---\n",
      " I wish I got to watch it with you I miss you and iamlilnicki  how was the premiere\n",
      "---\n",
      "Hollis death scene will hurt me severely to watch on film  wry is directors cut not out now\n",
      "---\n",
      "about to file taxes \n",
      "---\n",
      " ahh ive always wanted to see rent  love the soundtrack\n",
      "---\n",
      " Oh dear Were you drinking out of the forgotten table drinks \n",
      "---\n"
     ]
    }
   ],
   "source": [
    "preview_documents(corpus)"
   ]
  },
  {
   "cell_type": "markdown",
   "metadata": {},
   "source": [
    "### *Removing Stop Words*"
   ]
  },
  {
   "cell_type": "code",
   "execution_count": 123,
   "metadata": {},
   "outputs": [],
   "source": [
    "STOPWORDS = set(stopwords.words(\"english\"))"
   ]
  },
  {
   "cell_type": "code",
   "execution_count": 124,
   "metadata": {},
   "outputs": [],
   "source": [
    "def remove_stopwords(text, stopwords=STOPWORDS):\n",
    "    tokens = [token.strip() for token in word_tokenize(text)]\n",
    "    filtered_tokens = list(filter(lambda token: token not in stopwords, tokens))\n",
    "    return ' '.join(filtered_tokens)    "
   ]
  },
  {
   "cell_type": "code",
   "execution_count": 125,
   "metadata": {},
   "outputs": [],
   "source": [
    "corpus[\"text\"] =  corpus[\"text\"].apply(remove_stopwords)"
   ]
  },
  {
   "cell_type": "code",
   "execution_count": 126,
   "metadata": {},
   "outputs": [
    {
     "name": "stdout",
     "output_type": "stream",
     "text": [
      "that is a of to do it\n",
      "---\n",
      "is that he can not his by it and as a\n",
      "---\n",
      "for the to out of\n",
      "---\n",
      "my and its on\n",
      "---\n",
      "no it is not at all i am why am i here because can not you all over there\n",
      "---\n",
      "not the\n",
      "---\n",
      "a\n",
      "---\n",
      "no a only a am how is you\n",
      "---\n",
      "they did not have it\n",
      "---\n",
      "me\n",
      "---\n",
      "in it is\n",
      "---\n",
      "just my\n",
      "---\n",
      "not to it the was\n",
      "---\n",
      "it why did you to me\n",
      "---\n",
      "i have been the but i did not have a not just a\n",
      "---\n",
      "to it with you you and how was the\n",
      "---\n",
      "will me to on is not out now\n",
      "---\n",
      "about to\n",
      "---\n",
      "to the\n",
      "---\n",
      "you out of the\n",
      "---\n"
     ]
    }
   ],
   "source": [
    "preview_documents(corpus)"
   ]
  },
  {
   "cell_type": "code",
   "execution_count": 127,
   "metadata": {},
   "outputs": [],
   "source": [
    "corpus.to_csv(\"data/cleaned1_sentiment140\")"
   ]
  },
  {
   "cell_type": "markdown",
   "metadata": {},
   "source": [
    "### *Removing Non-English Tweets*"
   ]
  },
  {
   "cell_type": "code",
   "execution_count": 128,
   "metadata": {},
   "outputs": [],
   "source": [
    "def detect_language(text, language_codes=LANGUAGE_CODES):\n",
    "    return language_codes.get(langdetect.detect(text))"
   ]
  },
  {
   "cell_type": "code",
   "execution_count": 129,
   "metadata": {},
   "outputs": [],
   "source": [
    "corpus[\"language\"] =  corpus[\"text\"].apply(remove_stopwords)"
   ]
  },
  {
   "cell_type": "code",
   "execution_count": 130,
   "metadata": {},
   "outputs": [
    {
     "name": "stdout",
     "output_type": "stream",
     "text": [
      "that is a of to do it\n",
      "---\n",
      "is that he can not his by it and as a\n",
      "---\n",
      "for the to out of\n",
      "---\n",
      "my and its on\n",
      "---\n",
      "no it is not at all i am why am i here because can not you all over there\n",
      "---\n",
      "not the\n",
      "---\n",
      "a\n",
      "---\n",
      "no a only a am how is you\n",
      "---\n",
      "they did not have it\n",
      "---\n",
      "me\n",
      "---\n",
      "in it is\n",
      "---\n",
      "just my\n",
      "---\n",
      "not to it the was\n",
      "---\n",
      "it why did you to me\n",
      "---\n",
      "i have been the but i did not have a not just a\n",
      "---\n",
      "to it with you you and how was the\n",
      "---\n",
      "will me to on is not out now\n",
      "---\n",
      "about to\n",
      "---\n",
      "to the\n",
      "---\n",
      "you out of the\n",
      "---\n"
     ]
    }
   ],
   "source": [
    "preview_documents(corpus)"
   ]
  },
  {
   "cell_type": "code",
   "execution_count": 131,
   "metadata": {},
   "outputs": [],
   "source": [
    "corpus.to_csv(\"data/cleaned2_sentiment140\")"
   ]
  },
  {
   "cell_type": "markdown",
   "metadata": {},
   "source": [
    "## C.2 - Tokenization"
   ]
  },
  {
   "cell_type": "code",
   "execution_count": 132,
   "metadata": {},
   "outputs": [],
   "source": [
    "from nltk.tokenize import TweetTokenizer\n",
    "tokenizer = TweetTokenizer(reduce_len=True, preserve_case=False)"
   ]
  },
  {
   "cell_type": "code",
   "execution_count": 133,
   "metadata": {},
   "outputs": [],
   "source": [
    "corpus[\"tokenized\"] = corpus[\"text\"].map(lambda tweet: tokenizer.tokenize(tweet))\n",
    "corpus = corpus.loc[:, [\"text\", \"tokenized\", \"label\"]].rename(columns={\"text\": \"raw\"}, inplace=True)"
   ]
  },
  {
   "cell_type": "code",
   "execution_count": 134,
   "metadata": {},
   "outputs": [
    {
     "ename": "AttributeError",
     "evalue": "'NoneType' object has no attribute 'head'",
     "output_type": "error",
     "traceback": [
      "\u001b[1;31m---------------------------------------------------------------------------\u001b[0m",
      "\u001b[1;31mAttributeError\u001b[0m                            Traceback (most recent call last)",
      "\u001b[1;32m~\\AppData\\Local\\Temp/ipykernel_13152/2145939733.py\u001b[0m in \u001b[0;36m<module>\u001b[1;34m\u001b[0m\n\u001b[1;32m----> 1\u001b[1;33m \u001b[0mcorpus\u001b[0m\u001b[1;33m.\u001b[0m\u001b[0mhead\u001b[0m\u001b[1;33m(\u001b[0m\u001b[1;36m10\u001b[0m\u001b[1;33m)\u001b[0m\u001b[1;33m\u001b[0m\u001b[1;33m\u001b[0m\u001b[0m\n\u001b[0m",
      "\u001b[1;31mAttributeError\u001b[0m: 'NoneType' object has no attribute 'head'"
     ]
    }
   ],
   "source": [
    "corpus.head(10)"
   ]
  },
  {
   "cell_type": "code",
   "execution_count": null,
   "metadata": {},
   "outputs": [],
   "source": [
    "corpus.to_csv(\"data/tokenized_sentiment140\")"
   ]
  },
  {
   "cell_type": "markdown",
   "metadata": {},
   "source": [
    "## C.3 - Lemmatization"
   ]
  },
  {
   "cell_type": "code",
   "execution_count": null,
   "metadata": {},
   "outputs": [],
   "source": [
    "from nltk import pos_tag\n",
    "from nltk.corpus import wordnet\n",
    "from nltk.stem import WordNetLemmatizer\n",
    "lemmatizer = WordNetLemmatizer()"
   ]
  },
  {
   "cell_type": "code",
   "execution_count": null,
   "metadata": {},
   "outputs": [],
   "source": [
    "def lemmatize(tokens):\n",
    "    tagged_tokens = pos_tag(tokens, tagset=\"universal\")\n",
    "    return [lemmatizer.lemmatize(token[0], token[1]) for token in tagged_tokens]"
   ]
  },
  {
   "cell_type": "code",
   "execution_count": null,
   "metadata": {},
   "outputs": [],
   "source": [
    "corpus[\"tokenized\"] =  corpus[\"tockenized\"].apply(lemmatize)"
   ]
  },
  {
   "cell_type": "code",
   "execution_count": null,
   "metadata": {},
   "outputs": [],
   "source": [
    "corpus.head(10)"
   ]
  },
  {
   "cell_type": "markdown",
   "metadata": {},
   "source": [
    "## C.4 - Vectorization"
   ]
  },
  {
   "cell_type": "markdown",
   "metadata": {},
   "source": []
  }
 ],
 "metadata": {
  "interpreter": {
   "hash": "08d6feff44ace914de8b9173e298bd349384caca9eafff2bf214bc35c628c1a5"
  },
  "kernelspec": {
   "display_name": "Python 3.8.11 64-bit (conda)",
   "name": "python3"
  },
  "language_info": {
   "codemirror_mode": {
    "name": "ipython",
    "version": 3
   },
   "file_extension": ".py",
   "mimetype": "text/x-python",
   "name": "python",
   "nbconvert_exporter": "python",
   "pygments_lexer": "ipython3",
   "version": "3.8.11"
  },
  "orig_nbformat": 4
 },
 "nbformat": 4,
 "nbformat_minor": 2
}
